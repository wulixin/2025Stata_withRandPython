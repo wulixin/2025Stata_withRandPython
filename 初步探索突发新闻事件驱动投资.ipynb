{
 "cells": [
  {
   "cell_type": "code",
   "execution_count": 1,
   "id": "268a01f6-e5c8-43f8-965b-c8a27da4a2d4",
   "metadata": {},
   "outputs": [],
   "source": [
    "import pandas as pd\n",
    "from sklearn.feature_extraction.text import TfidfVectorizer\n",
    "from sklearn.metrics.pairwise import cosine_similarity\n",
    "import numpy as np "
   ]
  },
  {
   "cell_type": "markdown",
   "id": "14dae22b-68af-4942-8807-d67121abbe62",
   "metadata": {},
   "source": [
    "##  1. 数据收集与预处理"
   ]
  },
  {
   "cell_type": "code",
   "execution_count": 2,
   "id": "8b3171c7-ee4f-483b-9360-a95129a33974",
   "metadata": {},
   "outputs": [],
   "source": [
    "def preprocess_text(text):\n",
    "    # 简单文本清洗\n",
    "    import re\n",
    "    text = re.sub(r'\\W+', ' ', text)\n",
    "    return text.lower()"
   ]
  },
  {
   "cell_type": "markdown",
   "id": "d43ff0ad-8a47-4a94-9614-fa1ef29d9972",
   "metadata": {},
   "source": [
    "##  2. 关键词提取"
   ]
  },
  {
   "cell_type": "code",
   "execution_count": 3,
   "id": "e25a15f2-82d0-4e4d-9440-38e863b17acf",
   "metadata": {},
   "outputs": [],
   "source": [
    "def extract_keywords(texts, top_n=5):\n",
    "    vectorizer = TfidfVectorizer(max_features=1000)\n",
    "    tfidf_matrix = vectorizer.fit_transform(texts)\n",
    "    feature_names = vectorizer.get_feature_names_out()\n",
    "    keywords = []\n",
    "    for row in tfidf_matrix:\n",
    "        indices = row.toarray().argsort()[0][-top_n:]\n",
    "        keywords.append([feature_names[i] for i in indices])\n",
    "    return keywords"
   ]
  },
  {
   "cell_type": "markdown",
   "id": "93827b0c-21ad-42e9-bb38-999122cdc4d4",
   "metadata": {},
   "source": [
    "## 3. 行业分类映射"
   ]
  },
  {
   "cell_type": "code",
   "execution_count": 4,
   "id": "3b529ea8-5cd3-4ae7-a814-f0b7d94eff78",
   "metadata": {},
   "outputs": [],
   "source": [
    "def map_keywords_to_industries(keywords, industry_mapping):\n",
    "    industry_hits = []\n",
    "    for keyword_list in keywords:\n",
    "        industries = set()\n",
    "        for keyword in keyword_list:\n",
    "            if keyword in industry_mapping:\n",
    "                industries.update(industry_mapping[keyword])\n",
    "        industry_hits.append(list(industries))\n",
    "    return industry_hits"
   ]
  },
  {
   "cell_type": "markdown",
   "id": "bd64e02b-7729-4bd8-9734-d014eaf46144",
   "metadata": {},
   "source": [
    "## 示例行业映射表"
   ]
  },
  {
   "cell_type": "code",
   "execution_count": 6,
   "id": "6eec1c4a-46a6-49bc-aced-c84d4c348fb9",
   "metadata": {},
   "outputs": [],
   "source": [
    "industry_mapping = {\n",
    "    \"oil\": [\"Energy\", \"Oil & Gas\"],\n",
    "    \"chip\": [\"Technology\", \"Semiconductors\"],\n",
    "    \"bank\": [\"Finance\", \"Banking\"]\n",
    "}"
   ]
  },
  {
   "cell_type": "markdown",
   "id": "360bc693-fc2a-49f2-bcd6-fb7b89c4a42e",
   "metadata": {},
   "source": [
    "## 示例新闻数据"
   ]
  },
  {
   "cell_type": "code",
   "execution_count": 7,
   "id": "e3502c9a-5459-4e56-a6b7-218986f02ce4",
   "metadata": {},
   "outputs": [],
   "source": [
    "news_data = [\n",
    "    \"Oil prices are rising due to geopolitical tensions.\",\n",
    "    \"New advancements in chip technology are announced.\",\n",
    "    \"Major banks report quarterly earnings.\"\n",
    "]"
   ]
  },
  {
   "cell_type": "markdown",
   "id": "6864741f-c812-4dd9-8c16-e2bb3c20190d",
   "metadata": {},
   "source": [
    "##  4. 分析流程"
   ]
  },
  {
   "cell_type": "code",
   "execution_count": 8,
   "id": "c47c5086-a915-4083-94f6-a79f3ce32daa",
   "metadata": {},
   "outputs": [],
   "source": [
    "preprocessed_news = [preprocess_text(news) for news in news_data]\n",
    "keywords = extract_keywords(preprocessed_news)\n",
    "industries = map_keywords_to_industries(keywords, industry_mapping)"
   ]
  },
  {
   "cell_type": "code",
   "execution_count": 9,
   "id": "72ccc13a-f05f-4191-9db5-7a346a58c2cc",
   "metadata": {},
   "outputs": [
    {
     "name": "stdout",
     "output_type": "stream",
     "text": [
      "News: Oil prices are rising due to geopolitical tensions.\n",
      "Keywords: ['tensions', 'oil', 'prices', 'rising', 'to']\n",
      "Industries: ['Oil & Gas', 'Energy']\n",
      "\n",
      "News: New advancements in chip technology are announced.\n",
      "Keywords: ['new', 'chip', 'announced', 'technology', 'advancements']\n",
      "Industries: ['Technology', 'Semiconductors']\n",
      "\n",
      "News: Major banks report quarterly earnings.\n",
      "Keywords: ['earnings', 'banks', 'quarterly', 'report', 'major']\n",
      "Industries: []\n",
      "\n"
     ]
    }
   ],
   "source": [
    "# 输出结果\n",
    "for i, news in enumerate(news_data):\n",
    "    print(f\"News: {news}\")\n",
    "    print(f\"Keywords: {keywords[i]}\")\n",
    "    print(f\"Industries: {industries[i]}\")\n",
    "    print()"
   ]
  },
  {
   "cell_type": "code",
   "execution_count": null,
   "id": "52b9b90c-ffe9-482b-9f5e-dbf8b67e020e",
   "metadata": {},
   "outputs": [],
   "source": []
  },
  {
   "cell_type": "markdown",
   "id": "09dfa957-69b3-496f-8b26-d9e6a8fa6db5",
   "metadata": {},
   "source": [
    "## 示例行业映射表"
   ]
  },
  {
   "cell_type": "code",
   "execution_count": 10,
   "id": "2307e195-e093-4104-875c-7d589c6cb2f8",
   "metadata": {},
   "outputs": [],
   "source": [
    "\n",
    "industry_mapping = {\n",
    "    \"歼10c\": [\"航空航天\", \"国防军工\"],\n",
    "    \"阵风\": [\"航空航天\", \"国防军工\"],\n",
    "    \"武器\": [\"国防军工\"],\n",
    "    \"巴基斯坦\": [\"国际关系\", \"国防军工\"],\n",
    "    \"中国\": [\"国际关系\", \"综合\"]\n",
    "}"
   ]
  },
  {
   "cell_type": "markdown",
   "id": "6a25be72-a2a4-4f6c-8d0e-eec1290d1c24",
   "metadata": {},
   "source": [
    "## 示例中文新闻数据"
   ]
  },
  {
   "cell_type": "code",
   "execution_count": 11,
   "id": "50ae80d6-c428-4dcc-897e-4e5f7efdc6b1",
   "metadata": {},
   "outputs": [],
   "source": [
    "news_data = [\n",
    "    \"巴基斯坦用中国歼10c武器击落阵风飞机。\",\n",
    "    \"中国宣布新型芯片技术突破。\",\n",
    "    \"国际油价因地缘政治紧张局势上涨。\"\n",
    "]"
   ]
  },
  {
   "cell_type": "markdown",
   "id": "7c101bde-f156-4860-ba39-a6f3dcadcc96",
   "metadata": {},
   "source": [
    "## 4. 分析流程"
   ]
  },
  {
   "cell_type": "code",
   "execution_count": 12,
   "id": "2699997c-2b63-4d11-b830-e49ff51e09fa",
   "metadata": {},
   "outputs": [],
   "source": [
    "preprocessed_news = [preprocess_text(news) for news in news_data]\n",
    "keywords = extract_keywords(preprocessed_news)\n",
    "industries = map_keywords_to_industries(keywords, industry_mapping)"
   ]
  },
  {
   "cell_type": "markdown",
   "id": "4641c7ee-c0a3-446f-8e5e-b1acd40b4e1f",
   "metadata": {},
   "source": [
    "## 输出结果"
   ]
  },
  {
   "cell_type": "code",
   "execution_count": 13,
   "id": "cea72918-fe2f-4368-9f13-ef31404345a8",
   "metadata": {},
   "outputs": [
    {
     "name": "stdout",
     "output_type": "stream",
     "text": [
      "新闻: 巴基斯坦用中国歼10c武器击落阵风飞机。\n",
      "关键词: ['中国宣布新型芯片技术突破', '国际油价因地缘政治紧张局势上涨', '巴基斯坦用中国歼10c武器击落阵风飞机']\n",
      "关联行业: []\n",
      "\n",
      "新闻: 中国宣布新型芯片技术突破。\n",
      "关键词: ['国际油价因地缘政治紧张局势上涨', '巴基斯坦用中国歼10c武器击落阵风飞机', '中国宣布新型芯片技术突破']\n",
      "关联行业: []\n",
      "\n",
      "新闻: 国际油价因地缘政治紧张局势上涨。\n",
      "关键词: ['中国宣布新型芯片技术突破', '巴基斯坦用中国歼10c武器击落阵风飞机', '国际油价因地缘政治紧张局势上涨']\n",
      "关联行业: []\n",
      "\n"
     ]
    }
   ],
   "source": [
    "for i, news in enumerate(news_data):\n",
    "    print(f\"新闻: {news}\")\n",
    "    print(f\"关键词: {keywords[i]}\")\n",
    "    print(f\"关联行业: {industries[i]}\")\n",
    "    print()"
   ]
  },
  {
   "cell_type": "markdown",
   "id": "6dd70f76-e2f0-4435-b25f-37af47ff1cb3",
   "metadata": {},
   "source": [
    "# 使用FLASK实现"
   ]
  },
  {
   "cell_type": "code",
   "execution_count": 14,
   "id": "b99ccd9c-4163-4740-bb27-584ceda5c47d",
   "metadata": {},
   "outputs": [],
   "source": [
    "from flask import Flask, request, render_template\n",
    "from sklearn.feature_extraction.text import TfidfVectorizer\n"
   ]
  },
  {
   "cell_type": "code",
   "execution_count": null,
   "id": "b4b26ace-4296-4e8f-b58f-92b3e0aad08f",
   "metadata": {},
   "outputs": [],
   "source": []
  },
  {
   "cell_type": "code",
   "execution_count": 15,
   "id": "e713393f-4cb0-4cb3-a49a-36371afec69b",
   "metadata": {},
   "outputs": [
    {
     "name": "stdout",
     "output_type": "stream",
     "text": [
      " * Serving Flask app '__main__'\n",
      " * Debug mode: on\n"
     ]
    },
    {
     "name": "stderr",
     "output_type": "stream",
     "text": [
      "WARNING: This is a development server. Do not use it in a production deployment. Use a production WSGI server instead.\n",
      " * Running on http://127.0.0.1:5000\n",
      "Press CTRL+C to quit\n",
      " * Restarting with watchdog (fsevents)\n",
      "0.00s - Debugger warning: It seems that frozen modules are being used, which may\n",
      "0.00s - make the debugger miss breakpoints. Please pass -Xfrozen_modules=off\n",
      "0.00s - to python to disable frozen modules.\n",
      "0.00s - Note: Debugging will proceed. Set PYDEVD_DISABLE_FILE_VALIDATION=1 to disable this validation.\n",
      "Traceback (most recent call last):\n",
      "  File \"<frozen runpy>\", line 198, in _run_module_as_main\n",
      "  File \"<frozen runpy>\", line 88, in _run_code\n",
      "  File \"/opt/anaconda3/lib/python3.12/site-packages/ipykernel_launcher.py\", line 17, in <module>\n",
      "    app.launch_new_instance()\n",
      "  File \"/opt/anaconda3/lib/python3.12/site-packages/traitlets/config/application.py\", line 1074, in launch_instance\n",
      "    app.initialize(argv)\n",
      "  File \"/opt/anaconda3/lib/python3.12/site-packages/traitlets/config/application.py\", line 118, in inner\n",
      "    return method(app, *args, **kwargs)\n",
      "           ^^^^^^^^^^^^^^^^^^^^^^^^^^^^\n",
      "  File \"/opt/anaconda3/lib/python3.12/site-packages/ipykernel/kernelapp.py\", line 654, in initialize\n",
      "    self.init_sockets()\n",
      "  File \"/opt/anaconda3/lib/python3.12/site-packages/ipykernel/kernelapp.py\", line 331, in init_sockets\n",
      "    self.shell_port = self._bind_socket(self.shell_socket, self.shell_port)\n",
      "                      ^^^^^^^^^^^^^^^^^^^^^^^^^^^^^^^^^^^^^^^^^^^^^^^^^^^^^\n",
      "  File \"/opt/anaconda3/lib/python3.12/site-packages/ipykernel/kernelapp.py\", line 253, in _bind_socket\n",
      "    return self._try_bind_socket(s, port)\n",
      "           ^^^^^^^^^^^^^^^^^^^^^^^^^^^^^^\n",
      "  File \"/opt/anaconda3/lib/python3.12/site-packages/ipykernel/kernelapp.py\", line 229, in _try_bind_socket\n",
      "    s.bind(\"tcp://%s:%i\" % (self.ip, port))\n",
      "  File \"/opt/anaconda3/lib/python3.12/site-packages/zmq/sugar/socket.py\", line 302, in bind\n",
      "    super().bind(addr)\n",
      "  File \"zmq/backend/cython/socket.pyx\", line 564, in zmq.backend.cython.socket.Socket.bind\n",
      "  File \"zmq/backend/cython/checkrc.pxd\", line 28, in zmq.backend.cython.checkrc._check_rc\n",
      "zmq.error.ZMQError: Address already in use (addr='tcp://127.0.0.1:55860')\n"
     ]
    },
    {
     "ename": "SystemExit",
     "evalue": "1",
     "output_type": "error",
     "traceback": [
      "An exception has occurred, use %tb to see the full traceback.\n",
      "\u001b[0;31mSystemExit\u001b[0m\u001b[0;31m:\u001b[0m 1\n"
     ]
    },
    {
     "name": "stderr",
     "output_type": "stream",
     "text": [
      "/opt/anaconda3/lib/python3.12/site-packages/IPython/core/interactiveshell.py:3585: UserWarning: To exit: use 'exit', 'quit', or Ctrl-D.\n",
      "  warn(\"To exit: use 'exit', 'quit', or Ctrl-D.\", stacklevel=1)\n"
     ]
    }
   ],
   "source": [
    "app = Flask(__name__)\n",
    "\n",
    "# 示例行业映射表\n",
    "industry_mapping = {\n",
    "    \"歼10c\": [\"航空航天\", \"国防军工\"],\n",
    "    \"阵风\": [\"航空航天\", \"国防军工\"],\n",
    "    \"武器\": [\"国防军工\"],\n",
    "    \"巴基斯坦\": [\"国际关系\", \"国防军工\"],\n",
    "    \"中国\": [\"国际关系\", \"综合\"]\n",
    "}\n",
    "\n",
    "# 关键词提取函数\n",
    "def extract_keywords(text, top_n=5):\n",
    "    vectorizer = TfidfVectorizer(max_features=1000)\n",
    "    tfidf_matrix = vectorizer.fit_transform([text])\n",
    "    feature_names = vectorizer.get_feature_names_out()\n",
    "    indices = tfidf_matrix.toarray().argsort()[0][-top_n:]\n",
    "    return [feature_names[i] for i in indices]\n",
    "\n",
    "# 行业映射函数\n",
    "def map_keywords_to_industries(keywords):\n",
    "    industries = set()\n",
    "    for keyword in keywords:\n",
    "        if keyword in industry_mapping:\n",
    "            industries.update(industry_mapping[keyword])\n",
    "    return list(industries)\n",
    "\n",
    "# 路由和逻辑\n",
    "@app.route(\"/\", methods=[\"GET\", \"POST\"])\n",
    "def index():\n",
    "    if request.method == \"POST\":\n",
    "        news = request.form[\"news\"]\n",
    "        keywords = extract_keywords(news)\n",
    "        industries = map_keywords_to_industries(keywords)\n",
    "        return render_template(\"index.html\", news=news, keywords=keywords, industries=industries)\n",
    "    return render_template(\"index.html\", news=\"\", keywords=[], industries=[])\n",
    "\n",
    "if __name__ == \"__main__\":\n",
    "    app.run(debug=True)"
   ]
  },
  {
   "cell_type": "code",
   "execution_count": null,
   "id": "d6bd4bcb-d248-4ddb-b2f4-cbd562ffd43b",
   "metadata": {},
   "outputs": [],
   "source": []
  },
  {
   "cell_type": "code",
   "execution_count": null,
   "id": "64544925-02b0-4e43-a6b9-d356f08e92ee",
   "metadata": {},
   "outputs": [],
   "source": []
  },
  {
   "cell_type": "code",
   "execution_count": null,
   "id": "89f057c5-ff45-455a-83b9-a9576c6cbafb",
   "metadata": {},
   "outputs": [],
   "source": []
  },
  {
   "cell_type": "code",
   "execution_count": null,
   "id": "76b6564d-4ab2-48f0-8c6b-eaff7a0da1e4",
   "metadata": {},
   "outputs": [],
   "source": []
  },
  {
   "cell_type": "code",
   "execution_count": null,
   "id": "c517d60b-b0a4-4ce6-a721-81a715a27882",
   "metadata": {},
   "outputs": [],
   "source": []
  },
  {
   "cell_type": "code",
   "execution_count": null,
   "id": "163f93b8-bd02-468d-b605-796ad4c44b6d",
   "metadata": {},
   "outputs": [],
   "source": []
  },
  {
   "cell_type": "code",
   "execution_count": null,
   "id": "4143b122-f56a-4c53-8a39-0109872ed50d",
   "metadata": {},
   "outputs": [],
   "source": []
  },
  {
   "cell_type": "code",
   "execution_count": null,
   "id": "9f3e6529-9317-4dcf-9a8f-a943ace7ab64",
   "metadata": {},
   "outputs": [],
   "source": []
  },
  {
   "cell_type": "code",
   "execution_count": null,
   "id": "8bd9e1c3-e556-4c3a-a9cd-8f06197535bf",
   "metadata": {},
   "outputs": [],
   "source": []
  }
 ],
 "metadata": {
  "kernelspec": {
   "display_name": "Python 3 (ipykernel)",
   "language": "python",
   "name": "python3"
  },
  "language_info": {
   "codemirror_mode": {
    "name": "ipython",
    "version": 3
   },
   "file_extension": ".py",
   "mimetype": "text/x-python",
   "name": "python",
   "nbconvert_exporter": "python",
   "pygments_lexer": "ipython3",
   "version": "3.12.7"
  }
 },
 "nbformat": 4,
 "nbformat_minor": 5
}
